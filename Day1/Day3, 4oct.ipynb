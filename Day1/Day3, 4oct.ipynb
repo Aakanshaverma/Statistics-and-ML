{
 "cells": [
  {
   "cell_type": "code",
   "execution_count": 8,
   "metadata": {},
   "outputs": [
    {
     "name": "stdout",
     "output_type": "stream",
     "text": [
      "enter the no. of rows: 5\n",
      "*\n",
      "**\n",
      "***\n",
      "****\n",
      "*****\n"
     ]
    }
   ],
   "source": [
    "n=int(input(\"enter the no. of rows: \"))\n",
    "for i in range(1,n+1,1):\n",
    "    print(\"*\"*i)\n",
    "    "
   ]
  },
  {
   "cell_type": "code",
   "execution_count": 26,
   "metadata": {
    "scrolled": true
   },
   "outputs": [
    {
     "name": "stdout",
     "output_type": "stream",
     "text": [
      "enter the no. of rows: 5\n",
      "         *\n",
      "         **\n",
      "         ***\n",
      "         ****\n",
      "         *****\n",
      "         ******\n",
      "         *******\n",
      "         ********\n"
     ]
    }
   ],
   "source": [
    "n=int(input(\"enter the no. of rows: \"))\n",
    "\n",
    "for i in range(1, 2*n-1):\n",
    "    j=2*n-1\n",
    "    print(\" \"*j + \"*\"*i)"
   ]
  },
  {
   "cell_type": "code",
   "execution_count": 24,
   "metadata": {},
   "outputs": [
    {
     "name": "stdout",
     "output_type": "stream",
     "text": [
      "[1, 4, 7]\n"
     ]
    }
   ],
   "source": [
    "#list comprehension\n",
    "demo= [[1,2,3],[4,5, 6], [7,8,9]]\n",
    "first_col=[]\n",
    "for i in demo:\n",
    "    first_col.append([i][0])\n",
    "print(first_col)\n"
   ]
  },
  {
   "cell_type": "code",
   "execution_count": 7,
   "metadata": {},
   "outputs": [
    {
     "name": "stdout",
     "output_type": "stream",
     "text": [
      "enter number sequence 5,4,1,2,8\n",
      "['5', '4', '1', '2', '8']\n",
      "8\n"
     ]
    }
   ],
   "source": [
    "#to input str of no. as list and then find the maximum no.\n",
    "x=input(\"enter number sequence \")\n",
    "a= x.split(',')\n",
    "print(a)\n",
    "i=0\n",
    "m= a[0]\n",
    "for i in a:\n",
    "    if m<i:\n",
    "        m=i\n",
    "print(m)\n",
    "    \n",
    "        \n",
    "    \n"
   ]
  },
  {
   "cell_type": "code",
   "execution_count": 14,
   "metadata": {},
   "outputs": [
    {
     "name": "stdout",
     "output_type": "stream",
     "text": [
      "enter number sequence 1,3,4,5\n",
      "<class 'list'>\n"
     ]
    }
   ],
   "source": [
    "x=input(\"enter number sequence \")\n",
    "a= x.split(',')\n",
    "for i in range(len(a)):\n",
    "    a[i]=int(a[i])\n",
    "print(type(a))    \n"
   ]
  },
  {
   "cell_type": "code",
   "execution_count": 51,
   "metadata": {},
   "outputs": [
    {
     "name": "stdout",
     "output_type": "stream",
     "text": [
      "Please enter a few words: aplle,apple\n",
      "aplle 5\n",
      "apple 5\n",
      "The word with max no. of characters is: ['aplle', 'apple']\n",
      "No. of characters are:  5\n"
     ]
    }
   ],
   "source": [
    "#accept a sequence of words and find out the longest word\n",
    "\n",
    "words = input('Please enter a few words: ')  \n",
    "word_list = words.split(\",\")   \n",
    "m=len(word_list[0])\n",
    "for i in word_list:    \n",
    "    print(i, len(i))\n",
    "    if m<len(i):\n",
    "        m=len(i)\n",
    "        \n",
    "l=[]\n",
    "for i in word_list:\n",
    "    if len(i)==m:\n",
    "        l.append(i)\n",
    "\n",
    "print(\"The word with max no. of characters is:\",l)\n",
    "print(\"No. of characters are: \",  m)\n"
   ]
  },
  {
   "cell_type": "code",
   "execution_count": 49,
   "metadata": {},
   "outputs": [
    {
     "name": "stdout",
     "output_type": "stream",
     "text": [
      "1 2 3\n"
     ]
    }
   ],
   "source": [
    "# Tuples\n",
    "t=(1,2,3)\n",
    "a,b,c= 1,2,3\n",
    "print(a,b,c)"
   ]
  },
  {
   "cell_type": "code",
   "execution_count": 52,
   "metadata": {},
   "outputs": [
    {
     "data": {
      "text/plain": [
       "{1}"
      ]
     },
     "execution_count": 52,
     "metadata": {},
     "output_type": "execute_result"
    }
   ],
   "source": [
    "#sets\n",
    "x=set()\n",
    "x.add(1)\n",
    "x"
   ]
  },
  {
   "cell_type": "code",
   "execution_count": 53,
   "metadata": {},
   "outputs": [],
   "source": [
    "x.add(2)"
   ]
  },
  {
   "cell_type": "code",
   "execution_count": 54,
   "metadata": {},
   "outputs": [
    {
     "data": {
      "text/plain": [
       "{1, 2}"
      ]
     },
     "execution_count": 54,
     "metadata": {},
     "output_type": "execute_result"
    }
   ],
   "source": [
    "x\n"
   ]
  },
  {
   "cell_type": "code",
   "execution_count": 56,
   "metadata": {},
   "outputs": [
    {
     "name": "stdout",
     "output_type": "stream",
     "text": [
      "dict_keys(['spain', 'germany', 'france'])\n",
      "dict_values(['madrid', 'berlin', 'paris'])\n",
      "madrid\n"
     ]
    }
   ],
   "source": [
    "europe={'spain':'madrid', 'germany':'berlin', 'france':'paris'}\n",
    "print(europe.keys())\n",
    "print(europe.values())\n",
    "print(europe['spain'])"
   ]
  },
  {
   "cell_type": "code",
   "execution_count": 73,
   "metadata": {},
   "outputs": [
    {
     "name": "stdout",
     "output_type": "stream",
     "text": [
      "{0: 0}\n",
      "{1: 1}\n",
      "{2: 4}\n",
      "{3: 9}\n",
      "{4: 16}\n",
      "{5: 25}\n",
      "{6: 36}\n",
      "{7: 49}\n",
      "{8: 64}\n",
      "{9: 81}\n",
      "<class 'dict'>\n"
     ]
    }
   ],
   "source": [
    "for x in range(10):\n",
    "    my_dict={x:x**2}\n",
    "    print(my_dict)\n",
    "print(type(my_dict))"
   ]
  },
  {
   "cell_type": "code",
   "execution_count": 74,
   "metadata": {},
   "outputs": [],
   "source": [
    "def sum(*args):\n",
    "    sum=0\n",
    "    for i in args:\n",
    "        sum=sum+i\n",
    "    return sum \n"
   ]
  },
  {
   "cell_type": "code",
   "execution_count": 75,
   "metadata": {},
   "outputs": [
    {
     "data": {
      "text/plain": [
       "6"
      ]
     },
     "execution_count": 75,
     "metadata": {},
     "output_type": "execute_result"
    }
   ],
   "source": [
    "sum(1,2,3)\n"
   ]
  },
  {
   "cell_type": "code",
   "execution_count": 79,
   "metadata": {},
   "outputs": [
    {
     "data": {
      "text/plain": [
       "[1.0, 1.2, 0.505]"
      ]
     },
     "execution_count": 79,
     "metadata": {},
     "output_type": "execute_result"
    }
   ],
   "source": [
    "def meter(n):\n",
    "    return(float(n/100))\n",
    "def centimeter(n):\n",
    "    return(float(n*100))\n",
    "dist=[100.0 ,120.0,50.5]\n",
    "\n",
    "m_dist= list(map(meter,dist))\n",
    "m_dist"
   ]
  },
  {
   "cell_type": "code",
   "execution_count": 80,
   "metadata": {},
   "outputs": [
    {
     "data": {
      "text/plain": [
       "[100.0, 120.0, 50.5]"
      ]
     },
     "execution_count": 80,
     "metadata": {},
     "output_type": "execute_result"
    }
   ],
   "source": [
    "cm_dist=list(map(centimeter,m_dist))\n",
    "cm_dist"
   ]
  },
  {
   "cell_type": "code",
   "execution_count": null,
   "metadata": {},
   "outputs": [],
   "source": []
  }
 ],
 "metadata": {
  "kernelspec": {
   "display_name": "Python 3",
   "language": "python",
   "name": "python3"
  },
  "language_info": {
   "codemirror_mode": {
    "name": "ipython",
    "version": 3
   },
   "file_extension": ".py",
   "mimetype": "text/x-python",
   "name": "python",
   "nbconvert_exporter": "python",
   "pygments_lexer": "ipython3",
   "version": "3.6.5"
  }
 },
 "nbformat": 4,
 "nbformat_minor": 2
}
