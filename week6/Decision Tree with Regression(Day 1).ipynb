{
 "cells": [
  {
   "cell_type": "code",
   "execution_count": 45,
   "metadata": {},
   "outputs": [],
   "source": [
    "import numpy as np\n",
    "import pandas as pd\n",
    "import matplotlib.pyplot as plt\n",
    "%matplotlib inline\n",
    "import seaborn as sns\n",
    "#import linear regression model\n",
    "from sklearn.linear_model import LinearRegression\n",
    "sns.set(color_codes=True)\n",
    "from sklearn.model_selection import train_test_split\n",
    "from sklearn.preprocessing import PolynomialFeatures\n",
    "import statsmodels.formula.api as smf\n",
    "from sklearn.linear_model import LogisticRegression\n",
    "from sklearn import metrics\n",
    "from sklearn.metrics import roc_curve, auc\n",
    "from sklearn.externals.six import StringIO\n",
    "from IPython.display import Image\n",
    "from sklearn.tree import export_graphviz\n",
    "import pydotplus\n",
    "from sklearn import tree"
   ]
  },
  {
   "cell_type": "code",
   "execution_count": 46,
   "metadata": {},
   "outputs": [],
   "source": [
    "A= pd.read_csv('fair_pay_data.csv', index_col=0)"
   ]
  },
  {
   "cell_type": "code",
   "execution_count": 47,
   "metadata": {},
   "outputs": [
    {
     "data": {
      "text/html": [
       "<div>\n",
       "<style scoped>\n",
       "    .dataframe tbody tr th:only-of-type {\n",
       "        vertical-align: middle;\n",
       "    }\n",
       "\n",
       "    .dataframe tbody tr th {\n",
       "        vertical-align: top;\n",
       "    }\n",
       "\n",
       "    .dataframe thead th {\n",
       "        text-align: right;\n",
       "    }\n",
       "</style>\n",
       "<table border=\"1\" class=\"dataframe\">\n",
       "  <thead>\n",
       "    <tr style=\"text-align: right;\">\n",
       "      <th></th>\n",
       "      <th>department</th>\n",
       "      <th>salary</th>\n",
       "      <th>new_hire</th>\n",
       "      <th>job_level</th>\n",
       "    </tr>\n",
       "    <tr>\n",
       "      <th>employee_id</th>\n",
       "      <th></th>\n",
       "      <th></th>\n",
       "      <th></th>\n",
       "      <th></th>\n",
       "    </tr>\n",
       "  </thead>\n",
       "  <tbody>\n",
       "    <tr>\n",
       "      <th>1</th>\n",
       "      <td>Sales</td>\n",
       "      <td>103263.63550</td>\n",
       "      <td>No</td>\n",
       "      <td>Salaried</td>\n",
       "    </tr>\n",
       "    <tr>\n",
       "      <th>2</th>\n",
       "      <td>Engineering</td>\n",
       "      <td>80708.64104</td>\n",
       "      <td>No</td>\n",
       "      <td>Hourly</td>\n",
       "    </tr>\n",
       "    <tr>\n",
       "      <th>4</th>\n",
       "      <td>Engineering</td>\n",
       "      <td>60737.04786</td>\n",
       "      <td>Yes</td>\n",
       "      <td>Hourly</td>\n",
       "    </tr>\n",
       "    <tr>\n",
       "      <th>5</th>\n",
       "      <td>Engineering</td>\n",
       "      <td>99116.32328</td>\n",
       "      <td>Yes</td>\n",
       "      <td>Salaried</td>\n",
       "    </tr>\n",
       "    <tr>\n",
       "      <th>7</th>\n",
       "      <td>Engineering</td>\n",
       "      <td>51021.64386</td>\n",
       "      <td>No</td>\n",
       "      <td>Hourly</td>\n",
       "    </tr>\n",
       "  </tbody>\n",
       "</table>\n",
       "</div>"
      ],
      "text/plain": [
       "              department        salary new_hire job_level\n",
       "employee_id                                              \n",
       "1                  Sales  103263.63550       No  Salaried\n",
       "2            Engineering   80708.64104       No    Hourly\n",
       "4            Engineering   60737.04786      Yes    Hourly\n",
       "5            Engineering   99116.32328      Yes  Salaried\n",
       "7            Engineering   51021.64386       No    Hourly"
      ]
     },
     "execution_count": 47,
     "metadata": {},
     "output_type": "execute_result"
    }
   ],
   "source": [
    "A.head()\n"
   ]
  },
  {
   "cell_type": "code",
   "execution_count": 48,
   "metadata": {},
   "outputs": [],
   "source": [
    "A= pd.get_dummies(A, columns=['job_level'])\n",
    "A= pd.get_dummies(A, columns=['department'])\n",
    "A= pd.get_dummies(A, columns=['new_hire'])\n"
   ]
  },
  {
   "cell_type": "code",
   "execution_count": 100,
   "metadata": {},
   "outputs": [],
   "source": [
    "mycols=['job_level_Hourly','job_level_Manager', 'job_level_Salaried', 'department_Engineering', 'department_Finance','department_Sales', 'new_hire_No','new_hire_Yes']"
   ]
  },
  {
   "cell_type": "code",
   "execution_count": 53,
   "metadata": {},
   "outputs": [],
   "source": [
    "x= A.drop(columns= ['salary'])\n",
    "y= A['salary']"
   ]
  },
  {
   "cell_type": "code",
   "execution_count": 54,
   "metadata": {},
   "outputs": [
    {
     "data": {
      "text/html": [
       "<div>\n",
       "<style scoped>\n",
       "    .dataframe tbody tr th:only-of-type {\n",
       "        vertical-align: middle;\n",
       "    }\n",
       "\n",
       "    .dataframe tbody tr th {\n",
       "        vertical-align: top;\n",
       "    }\n",
       "\n",
       "    .dataframe thead th {\n",
       "        text-align: right;\n",
       "    }\n",
       "</style>\n",
       "<table border=\"1\" class=\"dataframe\">\n",
       "  <thead>\n",
       "    <tr style=\"text-align: right;\">\n",
       "      <th></th>\n",
       "      <th>salary</th>\n",
       "      <th>job_level_Hourly</th>\n",
       "      <th>job_level_Manager</th>\n",
       "      <th>job_level_Salaried</th>\n",
       "      <th>department_Engineering</th>\n",
       "      <th>department_Finance</th>\n",
       "      <th>department_Sales</th>\n",
       "      <th>new_hire_No</th>\n",
       "      <th>new_hire_Yes</th>\n",
       "    </tr>\n",
       "    <tr>\n",
       "      <th>employee_id</th>\n",
       "      <th></th>\n",
       "      <th></th>\n",
       "      <th></th>\n",
       "      <th></th>\n",
       "      <th></th>\n",
       "      <th></th>\n",
       "      <th></th>\n",
       "      <th></th>\n",
       "      <th></th>\n",
       "    </tr>\n",
       "  </thead>\n",
       "  <tbody>\n",
       "    <tr>\n",
       "      <th>1</th>\n",
       "      <td>103263.63550</td>\n",
       "      <td>0</td>\n",
       "      <td>0</td>\n",
       "      <td>1</td>\n",
       "      <td>0</td>\n",
       "      <td>0</td>\n",
       "      <td>1</td>\n",
       "      <td>1</td>\n",
       "      <td>0</td>\n",
       "    </tr>\n",
       "    <tr>\n",
       "      <th>2</th>\n",
       "      <td>80708.64104</td>\n",
       "      <td>1</td>\n",
       "      <td>0</td>\n",
       "      <td>0</td>\n",
       "      <td>1</td>\n",
       "      <td>0</td>\n",
       "      <td>0</td>\n",
       "      <td>1</td>\n",
       "      <td>0</td>\n",
       "    </tr>\n",
       "    <tr>\n",
       "      <th>4</th>\n",
       "      <td>60737.04786</td>\n",
       "      <td>1</td>\n",
       "      <td>0</td>\n",
       "      <td>0</td>\n",
       "      <td>1</td>\n",
       "      <td>0</td>\n",
       "      <td>0</td>\n",
       "      <td>0</td>\n",
       "      <td>1</td>\n",
       "    </tr>\n",
       "    <tr>\n",
       "      <th>5</th>\n",
       "      <td>99116.32328</td>\n",
       "      <td>0</td>\n",
       "      <td>0</td>\n",
       "      <td>1</td>\n",
       "      <td>1</td>\n",
       "      <td>0</td>\n",
       "      <td>0</td>\n",
       "      <td>0</td>\n",
       "      <td>1</td>\n",
       "    </tr>\n",
       "    <tr>\n",
       "      <th>7</th>\n",
       "      <td>51021.64386</td>\n",
       "      <td>1</td>\n",
       "      <td>0</td>\n",
       "      <td>0</td>\n",
       "      <td>1</td>\n",
       "      <td>0</td>\n",
       "      <td>0</td>\n",
       "      <td>1</td>\n",
       "      <td>0</td>\n",
       "    </tr>\n",
       "  </tbody>\n",
       "</table>\n",
       "</div>"
      ],
      "text/plain": [
       "                   salary  job_level_Hourly  job_level_Manager  \\\n",
       "employee_id                                                      \n",
       "1            103263.63550                 0                  0   \n",
       "2             80708.64104                 1                  0   \n",
       "4             60737.04786                 1                  0   \n",
       "5             99116.32328                 0                  0   \n",
       "7             51021.64386                 1                  0   \n",
       "\n",
       "             job_level_Salaried  department_Engineering  department_Finance  \\\n",
       "employee_id                                                                   \n",
       "1                             1                       0                   0   \n",
       "2                             0                       1                   0   \n",
       "4                             0                       1                   0   \n",
       "5                             1                       1                   0   \n",
       "7                             0                       1                   0   \n",
       "\n",
       "             department_Sales  new_hire_No  new_hire_Yes  \n",
       "employee_id                                               \n",
       "1                           1            1             0  \n",
       "2                           0            1             0  \n",
       "4                           0            0             1  \n",
       "5                           0            0             1  \n",
       "7                           0            1             0  "
      ]
     },
     "execution_count": 54,
     "metadata": {},
     "output_type": "execute_result"
    }
   ],
   "source": [
    "A.head()"
   ]
  },
  {
   "cell_type": "code",
   "execution_count": null,
   "metadata": {},
   "outputs": [],
   "source": []
  },
  {
   "cell_type": "code",
   "execution_count": 55,
   "metadata": {},
   "outputs": [],
   "source": [
    "xtrain, xtest, ytrain, ytest= train_test_split(x,y,test_size=0.3, random_state=1)"
   ]
  },
  {
   "cell_type": "code",
   "execution_count": 56,
   "metadata": {},
   "outputs": [],
   "source": [
    "c2_tree= tree.DecisionTreeRegressor(random_state=1, max_depth=1)\n",
    "c2_tree= c2_tree.fit(xtrain,ytrain)\n",
    "pred1= c2_tree.predict(xtest)\n"
   ]
  },
  {
   "cell_type": "code",
   "execution_count": 60,
   "metadata": {},
   "outputs": [
    {
     "data": {
      "text/plain": [
       "10946.418636397122"
      ]
     },
     "execution_count": 60,
     "metadata": {},
     "output_type": "execute_result"
    }
   ],
   "source": [
    "rmse= np.sqrt(np.sum((pred1-ytest)**2/len(ytest)))\n",
    "rmse"
   ]
  },
  {
   "cell_type": "code",
   "execution_count": 64,
   "metadata": {},
   "outputs": [],
   "source": [
    "mape=(abs((ytest-pred1)/ytest))/len(ytest)"
   ]
  },
  {
   "cell_type": "code",
   "execution_count": 66,
   "metadata": {},
   "outputs": [
    {
     "data": {
      "text/plain": [
       "0.12141970558177384"
      ]
     },
     "execution_count": 66,
     "metadata": {},
     "output_type": "execute_result"
    }
   ],
   "source": [
    "sum(mape)"
   ]
  },
  {
   "cell_type": "code",
   "execution_count": 85,
   "metadata": {},
   "outputs": [
    {
     "data": {
      "text/plain": [
       "[10946.418636397122,\n",
       " 8804.334630836478,\n",
       " 8815.132984303744,\n",
       " 8822.744473245319,\n",
       " 8837.062581662336]"
      ]
     },
     "execution_count": 85,
     "metadata": {},
     "output_type": "execute_result"
    }
   ],
   "source": [
    "rmse_test=[]\n",
    "mape_test=[]\n",
    "depth=[]\n",
    "for i in range(1,6):\n",
    "    c2_tree= tree.DecisionTreeRegressor(random_state=1, max_depth=i)\n",
    "    c2_tree= c2_tree.fit(xtrain,ytrain)\n",
    "    pred1= c2_tree.predict(xtest)\n",
    "    rmse= np.sqrt(np.sum((pred1-ytest)**2/len(ytest)))\n",
    "    rmse_test.append(rmse)\n",
    "    mape=np.mean(np.absolute((ytest-pred1)/ytest))\n",
    "    mape_test.append(mape)\n",
    "    depth.append(i)\n",
    "rmse_test\n"
   ]
  },
  {
   "cell_type": "code",
   "execution_count": 86,
   "metadata": {},
   "outputs": [
    {
     "data": {
      "text/plain": [
       "[0.12141970558177385,\n",
       " 0.10724034373126289,\n",
       " 0.10737466969884527,\n",
       " 0.10735648303831362,\n",
       " 0.1075517840401925]"
      ]
     },
     "execution_count": 86,
     "metadata": {},
     "output_type": "execute_result"
    }
   ],
   "source": [
    "mape_test"
   ]
  },
  {
   "cell_type": "code",
   "execution_count": 113,
   "metadata": {},
   "outputs": [
    {
     "data": {
      "text/html": [
       "<div>\n",
       "<style scoped>\n",
       "    .dataframe tbody tr th:only-of-type {\n",
       "        vertical-align: middle;\n",
       "    }\n",
       "\n",
       "    .dataframe tbody tr th {\n",
       "        vertical-align: top;\n",
       "    }\n",
       "\n",
       "    .dataframe thead th {\n",
       "        text-align: right;\n",
       "    }\n",
       "</style>\n",
       "<table border=\"1\" class=\"dataframe\">\n",
       "  <thead>\n",
       "    <tr style=\"text-align: right;\">\n",
       "      <th></th>\n",
       "      <th>depth</th>\n",
       "      <th>rmse_test</th>\n",
       "      <th>mape_test</th>\n",
       "    </tr>\n",
       "  </thead>\n",
       "  <tbody>\n",
       "    <tr>\n",
       "      <th>0</th>\n",
       "      <td>1.0</td>\n",
       "      <td>10946.418636</td>\n",
       "      <td>0.121420</td>\n",
       "    </tr>\n",
       "    <tr>\n",
       "      <th>1</th>\n",
       "      <td>2.0</td>\n",
       "      <td>8804.334631</td>\n",
       "      <td>0.107240</td>\n",
       "    </tr>\n",
       "    <tr>\n",
       "      <th>2</th>\n",
       "      <td>3.0</td>\n",
       "      <td>8815.132984</td>\n",
       "      <td>0.107375</td>\n",
       "    </tr>\n",
       "    <tr>\n",
       "      <th>3</th>\n",
       "      <td>4.0</td>\n",
       "      <td>8822.744473</td>\n",
       "      <td>0.107356</td>\n",
       "    </tr>\n",
       "    <tr>\n",
       "      <th>4</th>\n",
       "      <td>5.0</td>\n",
       "      <td>8837.062582</td>\n",
       "      <td>0.107552</td>\n",
       "    </tr>\n",
       "  </tbody>\n",
       "</table>\n",
       "</div>"
      ],
      "text/plain": [
       "   depth     rmse_test  mape_test\n",
       "0    1.0  10946.418636   0.121420\n",
       "1    2.0   8804.334631   0.107240\n",
       "2    3.0   8815.132984   0.107375\n",
       "3    4.0   8822.744473   0.107356\n",
       "4    5.0   8837.062582   0.107552"
      ]
     },
     "execution_count": 113,
     "metadata": {},
     "output_type": "execute_result"
    }
   ],
   "source": [
    "df1=pd.DataFrame([depth,rmse_test,mape_test]).T\n",
    "df1.columns= ['depth','rmse_test','mape_test']\n",
    "df1"
   ]
  },
  {
   "cell_type": "code",
   "execution_count": 101,
   "metadata": {},
   "outputs": [
    {
     "data": {
      "image/png": "[encoded data removed]",
      "text/plain": [
       "<IPython.core.display.Image object>"
      ]
     },
     "execution_count": 101,
     "metadata": {},
     "output_type": "execute_result"
    }
   ],
   "source": [
    "c2_tree= tree.DecisionTreeRegressor(random_state=1, max_depth=2)\n",
    "c2_tree= c2_tree.fit(xtrain,ytrain)\n",
    "\n",
    "\n",
    "#to view the tree\n",
    "dot_data=StringIO()\n",
    "export_graphviz(c2_tree,out_file=dot_data, feature_names=mycols, filled= True, rounded =True, special_characters= True)\n",
    "graph=pydotplus.graph_from_dot_data(dot_data.getvalue())\n",
    "Image(graph.create_png())\n",
    "#graph.write_png('Toy_tree_depth1.png')"
   ]
  },
  {
   "cell_type": "code",
   "execution_count": 116,
   "metadata": {},
   "outputs": [],
   "source": [
    "finaldepth= df1['depth'][df1['rmse_test']==max(rmse_test)] + 1"
   ]
  },
  {
   "cell_type": "code",
   "execution_count": 117,
   "metadata": {},
   "outputs": [
    {
     "data": {
      "text/plain": [
       "0    2.0\n",
       "Name: depth, dtype: float64"
      ]
     },
     "execution_count": 117,
     "metadata": {},
     "output_type": "execute_result"
    }
   ],
   "source": [
    "finaldepth"
   ]
  },
  {
   "cell_type": "code",
   "execution_count": null,
   "metadata": {},
   "outputs": [],
   "source": []
  }
 ],
 "metadata": {
  "kernelspec": {
   "display_name": "Python 3",
   "language": "python",
   "name": "python3"
  },
  "language_info": {
   "codemirror_mode": {
    "name": "ipython",
    "version": 3
   },
   "file_extension": ".py",
   "mimetype": "text/x-python",
   "name": "python",
   "nbconvert_exporter": "python",
   "pygments_lexer": "ipython3",
   "version": "3.6.5"
  }
 },
 "nbformat": 4,
 "nbformat_minor": 2
}
