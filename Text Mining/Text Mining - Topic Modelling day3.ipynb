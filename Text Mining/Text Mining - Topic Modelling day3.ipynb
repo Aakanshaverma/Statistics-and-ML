{
 "cells": [
  {
   "cell_type": "code",
   "execution_count": 2,
   "metadata": {},
   "outputs": [],
   "source": [
    "#!pip install gensim"
   ]
  },
  {
   "cell_type": "code",
   "execution_count": 70,
   "metadata": {},
   "outputs": [],
   "source": [
    "import numpy as np\n",
    "import pandas as pd\n",
    "import gensim\n",
    "import nltk\n",
    "import matplotlib.pyplot as plt"
   ]
  },
  {
   "cell_type": "code",
   "execution_count": 53,
   "metadata": {},
   "outputs": [
    {
     "data": {
      "text/plain": [
       "(100000,)"
      ]
     },
     "execution_count": 53,
     "metadata": {},
     "output_type": "execute_result"
    }
   ],
   "source": [
    "reviews=pd.read_csv('amazon_reviews_big.csv')\n",
    "docs=reviews['reviewText'].fillna('').str.lower().str.replace('[^a-z ]','')\n",
    "docs.shape"
   ]
  },
  {
   "cell_type": "code",
   "execution_count": 54,
   "metadata": {},
   "outputs": [],
   "source": [
    "stopwords=nltk.corpus.stopwords.words('english')\n",
    "custom_stopwords=['','use','one','great', 'work', 'like', 'get', 'user']\n",
    "stopwords.extend(custom_stopwords)\n",
    "stemmer=nltk.stem.PorterStemmer()\n",
    "def clean_sentence(text):\n",
    "    return [stemmer.stem(word) for word in text.split(' ') if word not in stopwords]\n",
    "docs_clean=docs.apply(clean_sentence)"
   ]
  },
  {
   "cell_type": "code",
   "execution_count": 57,
   "metadata": {},
   "outputs": [],
   "source": [
    "dictionary=gensim.corpora.Dictionary(docs_clean)\n"
   ]
  },
  {
   "cell_type": "code",
   "execution_count": 58,
   "metadata": {},
   "outputs": [
    {
     "data": {
      "text/plain": [
       "153025"
      ]
     },
     "execution_count": 58,
     "metadata": {},
     "output_type": "execute_result"
    }
   ],
   "source": [
    "len([(key, value) for key, value in dictionary.items()])"
   ]
  },
  {
   "cell_type": "code",
   "execution_count": 59,
   "metadata": {},
   "outputs": [],
   "source": [
    "docs_bows=[]\n",
    "for docs in docs_clean:\n",
    "    bow= dictionary.doc2bow(docs)\n",
    "    docs_bows.append(bow)"
   ]
  },
  {
   "cell_type": "code",
   "execution_count": 60,
   "metadata": {},
   "outputs": [],
   "source": [
    "#dictionary.doc2bow(docs_clean.iloc[0])"
   ]
  },
  {
   "cell_type": "code",
   "execution_count": 61,
   "metadata": {},
   "outputs": [
    {
     "data": {
      "text/plain": [
       "<gensim.models.ldamodel.LdaModel at 0x148af6fca20>"
      ]
     },
     "execution_count": 61,
     "metadata": {},
     "output_type": "execute_result"
    }
   ],
   "source": [
    "model=gensim.models.LdaModel(docs_bows, id2word=dictionary, num_topics=4)\n",
    "model"
   ]
  },
  {
   "cell_type": "code",
   "execution_count": 62,
   "metadata": {},
   "outputs": [
    {
     "data": {
      "text/plain": [
       "[(1, 0.38676652), (2, 0.1839399), (3, 0.4251293)]"
      ]
     },
     "execution_count": 62,
     "metadata": {},
     "output_type": "execute_result"
    }
   ],
   "source": [
    "model.get_document_topics(docs_bows[0])"
   ]
  },
  {
   "cell_type": "code",
   "execution_count": 63,
   "metadata": {},
   "outputs": [
    {
     "data": {
      "text/plain": [
       "[(0,\n",
       "  '0.020*\"camera\" + 0.015*\"case\" + 0.009*\"len\" + 0.008*\"fit\" + 0.008*\"well\" + 0.007*\"good\" + 0.007*\"use\" + 0.006*\"would\" + 0.006*\"look\" + 0.006*\"cover\"'),\n",
       " (1,\n",
       "  '0.012*\"drive\" + 0.011*\"work\" + 0.009*\"usb\" + 0.008*\"use\" + 0.008*\"card\" + 0.007*\"batteri\" + 0.007*\"devic\" + 0.007*\"time\" + 0.007*\"comput\" + 0.006*\"would\"'),\n",
       " (2,\n",
       "  '0.013*\"tv\" + 0.009*\"set\" + 0.008*\"use\" + 0.008*\"video\" + 0.007*\"remot\" + 0.006*\"mous\" + 0.006*\"pictur\" + 0.006*\"button\" + 0.006*\"keyboard\" + 0.005*\"would\"'),\n",
       " (3,\n",
       "  '0.022*\"sound\" + 0.014*\"cabl\" + 0.012*\"speaker\" + 0.011*\"good\" + 0.009*\"qualiti\" + 0.008*\"headphon\" + 0.007*\"price\" + 0.006*\"music\" + 0.006*\"router\" + 0.006*\"would\"')]"
      ]
     },
     "execution_count": 63,
     "metadata": {},
     "output_type": "execute_result"
    }
   ],
   "source": [
    "model.print_topics()"
   ]
  },
  {
   "cell_type": "code",
   "execution_count": 64,
   "metadata": {},
   "outputs": [
    {
     "data": {
      "text/plain": [
       "3.0"
      ]
     },
     "execution_count": 64,
     "metadata": {},
     "output_type": "execute_result"
    }
   ],
   "source": [
    "df_topic_word=pd.DataFrame(model.get_document_topics(docs_bows[0]), columns=['topic', 'prob'])\n",
    "df_topic_word.sort_values('prob', ascending=False).iloc[0]['topic']"
   ]
  },
  {
   "cell_type": "code",
   "execution_count": 67,
   "metadata": {},
   "outputs": [],
   "source": [
    "topics=[]\n",
    "for docs in docs_bows:\n",
    "    df_topic_word= pd.DataFrame(model.get_document_topics(docs), columns=['topic', 'prob'])\n",
    "    curr_topic=df_topic_word.sort_values('prob', ascending=False).iloc[0]['topic']\n",
    "    topics.append(curr_topic)"
   ]
  },
  {
   "cell_type": "code",
   "execution_count": 71,
   "metadata": {},
   "outputs": [
    {
     "data": {
      "image/png": "[encoded data removed]",
      "text/plain": [
       "<Figure size 432x288 with 1 Axes>"
      ]
     },
     "metadata": {
      "needs_background": "light"
     },
     "output_type": "display_data"
    }
   ],
   "source": [
    "reviews['topic']=topics\n",
    "topic_names={0:'camera', 1:'usb', 2:'tv', 3: 'speaker'}\n",
    "reviews['topic']=reviews['topic'].replace(topic_names)\n",
    "reviews['topic'].value_counts().plot.bar()\n",
    "plt.show()"
   ]
  },
  {
   "cell_type": "code",
   "execution_count": null,
   "metadata": {},
   "outputs": [],
   "source": []
  }
 ],
 "metadata": {
  "kernelspec": {
   "display_name": "Python 3",
   "language": "python",
   "name": "python3"
  },
  "language_info": {
   "codemirror_mode": {
    "name": "ipython",
    "version": 3
   },
   "file_extension": ".py",
   "mimetype": "text/x-python",
   "name": "python",
   "nbconvert_exporter": "python",
   "pygments_lexer": "ipython3",
   "version": "3.6.5"
  }
 },
 "nbformat": 4,
 "nbformat_minor": 2
}
